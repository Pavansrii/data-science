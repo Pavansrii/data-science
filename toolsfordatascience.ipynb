{
  "cells": [
    {
      "cell_type": "markdown",
      "id": "eb3dfbf3-5b0a-411d-a455-c9b2a3b4462c",
      "metadata": {
        "id": "eb3dfbf3-5b0a-411d-a455-c9b2a3b4462c"
      },
      "source": [
        " # Data Science Tools and Ecosystem"
      ]
    },
    {
      "cell_type": "markdown",
      "id": "4f3682ec-851b-4aba-8981-4eea624f16d9",
      "metadata": {
        "id": "4f3682ec-851b-4aba-8981-4eea624f16d9"
      },
      "source": [
        "In this notebook, Data Science Tools and Ecosystem are summarized."
      ]
    },
    {
      "cell_type": "markdown",
      "id": "b755c93e-25e6-4a72-8204-091fd80754c2",
      "metadata": {
        "id": "b755c93e-25e6-4a72-8204-091fd80754c2"
      },
      "source": [
        "Some of the popular languages that Data Scientists use are:\n",
        "\n",
        "1. Python\n",
        "2. R\n",
        "3. SQL\n",
        "4. C++\n",
        "5. Java etc..."
      ]
    },
    {
      "cell_type": "markdown",
      "id": "4e40f274-4c45-4231-b193-1e0a7eebbca2",
      "metadata": {
        "id": "4e40f274-4c45-4231-b193-1e0a7eebbca2"
      },
      "source": [
        "Some of the commonly used libraries used by Data Scientists include:\n",
        "\n",
        "1. TensorFlow.\n",
        "2. NumPy.\n",
        "3. SciPy. 4. Pandas.\n",
        "5. Matplotlib.\n",
        "6. Keras. 7. Scikit-Learn.\n",
        "8. PyTorch. etc..."
      ]
    },
    {
      "cell_type": "markdown",
      "id": "764a709f-3a25-436e-bd93-0642fb84d8ee",
      "metadata": {
        "id": "764a709f-3a25-436e-bd93-0642fb84d8ee"
      },
      "source": [
        "|Data Science Tools|\n",
        "|---|\n",
        "|SAS|\n",
        "|Apache Hadoop|\n",
        "|TensorFlow|"
      ]
    },
    {
      "cell_type": "markdown",
      "id": "9eb0bc38-3133-4335-9dd0-99f8d4bb0376",
      "metadata": {
        "id": "9eb0bc38-3133-4335-9dd0-99f8d4bb0376"
      },
      "source": [
        "### Below are a few examples of evaluating arithmetic expressions in Python."
      ]
    },
    {
      "cell_type": "code",
      "execution_count": null,
      "id": "1f3b7686-c7be-4d94-bcac-b2e84b0a3898",
      "metadata": {
        "id": "1f3b7686-c7be-4d94-bcac-b2e84b0a3898",
        "outputId": "aa59cebc-9249-406e-953b-0e59784d9d9f"
      },
      "outputs": [
        {
          "data": {
            "text/plain": [
              "17"
            ]
          },
          "execution_count": 1,
          "metadata": {},
          "output_type": "execute_result"
        }
      ],
      "source": [
        "#this is a common arithmetic example to multiply and then add integers\n",
        "(3*4)+5"
      ]
    },
    {
      "cell_type": "code",
      "execution_count": null,
      "id": "72b047ef-5c2b-4e70-8ede-db2ee3961bce",
      "metadata": {
        "id": "72b047ef-5c2b-4e70-8ede-db2ee3961bce",
        "outputId": "0798f2e2-5b32-4570-8f10-0b540842a701"
      },
      "outputs": [
        {
          "data": {
            "text/plain": [
              "3.3333333333333335"
            ]
          },
          "execution_count": 2,
          "metadata": {},
          "output_type": "execute_result"
        }
      ],
      "source": [
        "#This will convert 200 minutes to hours by dividing by 60\n",
        "200/60"
      ]
    },
    {
      "cell_type": "markdown",
      "id": "eb02b332-5ab3-4626-b3b2-97fbbfe4d04f",
      "metadata": {
        "id": "eb02b332-5ab3-4626-b3b2-97fbbfe4d04f"
      },
      "source": [
        "__Objective__\n",
        "* List popular languages for Data Science\n",
        "* List popular libraries for Data science\n",
        "* List of well known Data Science Tools\n",
        "* How to provide comments in the cells\n"
      ]
    },
    {
      "cell_type": "markdown",
      "id": "453fa8aa-3763-448b-9953-48815d3b0ff4",
      "metadata": {
        "id": "453fa8aa-3763-448b-9953-48815d3b0ff4"
      },
      "source": [
        "## Author\n",
        "Pavan Srinivaas\n"
      ]
    }
  ],
  "metadata": {
    "kernelspec": {
      "display_name": "Python 3 (ipykernel)",
      "language": "python",
      "name": "python3"
    },
    "language_info": {
      "codemirror_mode": {
        "name": "ipython",
        "version": 3
      },
      "file_extension": ".py",
      "mimetype": "text/x-python",
      "name": "python",
      "nbconvert_exporter": "python",
      "pygments_lexer": "ipython3",
      "version": "3.12.2"
    },
    "colab": {
      "provenance": []
    }
  },
  "nbformat": 4,
  "nbformat_minor": 5
}